{
 "cells": [
  {
   "cell_type": "code",
   "execution_count": 1,
   "metadata": {},
   "outputs": [],
   "source": [
    "from pathlib import Path\n",
    "\n",
    "from dotenv import load_dotenv\n",
    "\n",
    "from sample_mapillary_detections.main import MapillaryDetectionsSampler\n",
    "from sample_mapillary_detections.mapillary import DETECTION_TYPES\n"
   ]
  },
  {
   "cell_type": "code",
   "execution_count": 2,
   "metadata": {},
   "outputs": [
    {
     "data": {
      "text/plain": [
       "True"
      ]
     },
     "execution_count": 2,
     "metadata": {},
     "output_type": "execute_result"
    }
   ],
   "source": [
    "load_dotenv()\n"
   ]
  },
  {
   "cell_type": "code",
   "execution_count": 3,
   "metadata": {},
   "outputs": [
    {
     "data": {
      "text/plain": [
       "PosixPath('/Users/jay/repos/sample-mapillary-detections')"
      ]
     },
     "execution_count": 3,
     "metadata": {},
     "output_type": "execute_result"
    }
   ],
   "source": [
    "PROJ_ROOT = Path.cwd().parent\n",
    "PROJ_ROOT\n"
   ]
  },
  {
   "cell_type": "code",
   "execution_count": 4,
   "metadata": {},
   "outputs": [],
   "source": [
    "sampler = MapillaryDetectionsSampler.from_input_file(PROJ_ROOT / \"data\" / \"BeverlyHills.geojson\")\n"
   ]
  },
  {
   "cell_type": "code",
   "execution_count": 5,
   "metadata": {},
   "outputs": [
    {
     "data": {
      "image/svg+xml": [
       "<svg xmlns=\"http://www.w3.org/2000/svg\" xmlns:xlink=\"http://www.w3.org/1999/xlink\" width=\"100.0\" height=\"100.0\" viewBox=\"-118.4315605434006 34.04879305200412 0.06418126847933081 0.06812204590056581\" preserveAspectRatio=\"xMinYMin meet\"><g transform=\"matrix(1,0,0,-1,0,68.16570814990881)\"><path fill-rule=\"evenodd\" fill=\"#66cc99\" stroke=\"#555555\" stroke-width=\"0.0013624409180113162\" opacity=\"0.6\" d=\"M -118.42903750466354,34.081323125368925 L -118.41846900531613,34.06047303850856 L -118.4129830667236,34.054925516728744 L -118.39854214013437,34.05412343534566 L -118.38652148057125,34.0542571161029 L -118.3740167676028,34.05131609074118 L -118.36990231365832,34.06488406173021 L -118.37635635906125,34.075977438452966 L -118.38837701862465,34.07644519952795 L -118.38813499192197,34.09268158968807 L -118.39007120554277,34.11212107096098 L -118.406448345753,34.11439205916763 L -118.41346712012867,34.09448544084917 L -118.4276660200155,34.09134537885937 L -118.42903750466354,34.081323125368925 z\" /></g></svg>"
      ],
      "text/plain": [
       "<POLYGON ((-118.429 34.081, -118.418 34.06, -118.413 34.055, -118.399 34.054...>"
      ]
     },
     "execution_count": 5,
     "metadata": {},
     "output_type": "execute_result"
    }
   ],
   "source": [
    "sampler.target_geo\n"
   ]
  },
  {
   "cell_type": "code",
   "execution_count": 6,
   "metadata": {},
   "outputs": [
    {
     "data": {
      "text/plain": [
       "100"
      ]
     },
     "execution_count": 6,
     "metadata": {},
     "output_type": "execute_result"
    }
   ],
   "source": [
    "sampler.n_samples\n"
   ]
  },
  {
   "cell_type": "code",
   "execution_count": 7,
   "metadata": {},
   "outputs": [
    {
     "name": "stderr",
     "output_type": "stream",
     "text": [
      "100%|██████████| 100/100 [06:33<00:00,  3.93s/it]\n"
     ]
    },
    {
     "data": {
      "text/html": [
       "<div>\n",
       "<style scoped>\n",
       "    .dataframe tbody tr th:only-of-type {\n",
       "        vertical-align: middle;\n",
       "    }\n",
       "\n",
       "    .dataframe tbody tr th {\n",
       "        vertical-align: top;\n",
       "    }\n",
       "\n",
       "    .dataframe thead th {\n",
       "        text-align: right;\n",
       "    }\n",
       "</style>\n",
       "<table border=\"1\" class=\"dataframe\">\n",
       "  <thead>\n",
       "    <tr style=\"text-align: right;\">\n",
       "      <th></th>\n",
       "      <th>id</th>\n",
       "      <th>geometry</th>\n",
       "      <th>nature--terrain</th>\n",
       "      <th>nature--vegetation</th>\n",
       "      <th>nature--water</th>\n",
       "      <th>nature--sky</th>\n",
       "      <th>construction--structure--building</th>\n",
       "    </tr>\n",
       "  </thead>\n",
       "  <tbody>\n",
       "    <tr>\n",
       "      <th>0</th>\n",
       "      <td>720448516949804</td>\n",
       "      <td>POINT (-118.39949 34.07259)</td>\n",
       "      <td>0.000000</td>\n",
       "      <td>0.036612</td>\n",
       "      <td>0.0</td>\n",
       "      <td>0.405652</td>\n",
       "      <td>0.081816</td>\n",
       "    </tr>\n",
       "    <tr>\n",
       "      <th>1</th>\n",
       "      <td>732651749043950</td>\n",
       "      <td>POINT (-118.41372 34.09397)</td>\n",
       "      <td>0.018470</td>\n",
       "      <td>0.190914</td>\n",
       "      <td>0.0</td>\n",
       "      <td>0.337505</td>\n",
       "      <td>0.000000</td>\n",
       "    </tr>\n",
       "    <tr>\n",
       "      <th>2</th>\n",
       "      <td>361309886897460</td>\n",
       "      <td>POINT (-118.38372 34.05827)</td>\n",
       "      <td>0.000000</td>\n",
       "      <td>0.151947</td>\n",
       "      <td>0.0</td>\n",
       "      <td>0.282930</td>\n",
       "      <td>0.088342</td>\n",
       "    </tr>\n",
       "    <tr>\n",
       "      <th>3</th>\n",
       "      <td>1903616990058022</td>\n",
       "      <td>POINT (-118.42155 34.07979)</td>\n",
       "      <td>0.014412</td>\n",
       "      <td>0.194029</td>\n",
       "      <td>0.0</td>\n",
       "      <td>0.298257</td>\n",
       "      <td>0.018893</td>\n",
       "    </tr>\n",
       "    <tr>\n",
       "      <th>4</th>\n",
       "      <td>3758506207770176</td>\n",
       "      <td>POINT (-118.40684 34.06505)</td>\n",
       "      <td>0.018314</td>\n",
       "      <td>0.216934</td>\n",
       "      <td>0.0</td>\n",
       "      <td>0.273006</td>\n",
       "      <td>0.035949</td>\n",
       "    </tr>\n",
       "    <tr>\n",
       "      <th>...</th>\n",
       "      <td>...</td>\n",
       "      <td>...</td>\n",
       "      <td>...</td>\n",
       "      <td>...</td>\n",
       "      <td>...</td>\n",
       "      <td>...</td>\n",
       "      <td>...</td>\n",
       "    </tr>\n",
       "    <tr>\n",
       "      <th>95</th>\n",
       "      <td>1609206933178212</td>\n",
       "      <td>POINT (-118.38635 34.06928)</td>\n",
       "      <td>0.007306</td>\n",
       "      <td>0.128400</td>\n",
       "      <td>0.0</td>\n",
       "      <td>0.328438</td>\n",
       "      <td>0.082760</td>\n",
       "    </tr>\n",
       "    <tr>\n",
       "      <th>96</th>\n",
       "      <td>773639114689810</td>\n",
       "      <td>POINT (-118.40147 34.08984)</td>\n",
       "      <td>0.000000</td>\n",
       "      <td>0.180063</td>\n",
       "      <td>0.0</td>\n",
       "      <td>0.342597</td>\n",
       "      <td>0.000000</td>\n",
       "    </tr>\n",
       "    <tr>\n",
       "      <th>97</th>\n",
       "      <td>448746197801785</td>\n",
       "      <td>POINT (-118.3836 34.06388)</td>\n",
       "      <td>0.000000</td>\n",
       "      <td>0.064414</td>\n",
       "      <td>0.0</td>\n",
       "      <td>0.394592</td>\n",
       "      <td>0.058526</td>\n",
       "    </tr>\n",
       "    <tr>\n",
       "      <th>98</th>\n",
       "      <td>6900233106747197</td>\n",
       "      <td>POINT (-118.42121 34.0843)</td>\n",
       "      <td>0.015253</td>\n",
       "      <td>0.149344</td>\n",
       "      <td>0.0</td>\n",
       "      <td>0.377513</td>\n",
       "      <td>0.012380</td>\n",
       "    </tr>\n",
       "    <tr>\n",
       "      <th>99</th>\n",
       "      <td>1096464341602405</td>\n",
       "      <td>POINT (-118.40556 34.07047)</td>\n",
       "      <td>0.015905</td>\n",
       "      <td>0.056050</td>\n",
       "      <td>0.0</td>\n",
       "      <td>0.420333</td>\n",
       "      <td>0.047955</td>\n",
       "    </tr>\n",
       "  </tbody>\n",
       "</table>\n",
       "<p>100 rows × 7 columns</p>\n",
       "</div>"
      ],
      "text/plain": [
       "                  id                     geometry  nature--terrain  \\\n",
       "0    720448516949804  POINT (-118.39949 34.07259)         0.000000   \n",
       "1    732651749043950  POINT (-118.41372 34.09397)         0.018470   \n",
       "2    361309886897460  POINT (-118.38372 34.05827)         0.000000   \n",
       "3   1903616990058022  POINT (-118.42155 34.07979)         0.014412   \n",
       "4   3758506207770176  POINT (-118.40684 34.06505)         0.018314   \n",
       "..               ...                          ...              ...   \n",
       "95  1609206933178212  POINT (-118.38635 34.06928)         0.007306   \n",
       "96   773639114689810  POINT (-118.40147 34.08984)         0.000000   \n",
       "97   448746197801785   POINT (-118.3836 34.06388)         0.000000   \n",
       "98  6900233106747197   POINT (-118.42121 34.0843)         0.015253   \n",
       "99  1096464341602405  POINT (-118.40556 34.07047)         0.015905   \n",
       "\n",
       "    nature--vegetation  nature--water  nature--sky  \\\n",
       "0             0.036612            0.0     0.405652   \n",
       "1             0.190914            0.0     0.337505   \n",
       "2             0.151947            0.0     0.282930   \n",
       "3             0.194029            0.0     0.298257   \n",
       "4             0.216934            0.0     0.273006   \n",
       "..                 ...            ...          ...   \n",
       "95            0.128400            0.0     0.328438   \n",
       "96            0.180063            0.0     0.342597   \n",
       "97            0.064414            0.0     0.394592   \n",
       "98            0.149344            0.0     0.377513   \n",
       "99            0.056050            0.0     0.420333   \n",
       "\n",
       "    construction--structure--building  \n",
       "0                            0.081816  \n",
       "1                            0.000000  \n",
       "2                            0.088342  \n",
       "3                            0.018893  \n",
       "4                            0.035949  \n",
       "..                                ...  \n",
       "95                           0.082760  \n",
       "96                           0.000000  \n",
       "97                           0.058526  \n",
       "98                           0.012380  \n",
       "99                           0.047955  \n",
       "\n",
       "[100 rows x 7 columns]"
      ]
     },
     "execution_count": 7,
     "metadata": {},
     "output_type": "execute_result"
    }
   ],
   "source": [
    "results_gdf = sampler.results_to_gdf()\n",
    "results_gdf\n"
   ]
  },
  {
   "cell_type": "code",
   "execution_count": 8,
   "metadata": {},
   "outputs": [
    {
     "data": {
      "text/plain": [
       "nature--terrain                      0.010780\n",
       "nature--vegetation                   0.159947\n",
       "nature--water                        0.000000\n",
       "nature--sky                          0.321203\n",
       "construction--structure--building    0.043080\n",
       "dtype: float64"
      ]
     },
     "execution_count": 8,
     "metadata": {},
     "output_type": "execute_result"
    }
   ],
   "source": [
    "results_gdf[list(DETECTION_TYPES)].mean()\n"
   ]
  },
  {
   "cell_type": "code",
   "execution_count": null,
   "metadata": {},
   "outputs": [],
   "source": []
  }
 ],
 "metadata": {
  "kernelspec": {
   "display_name": ".venv",
   "language": "python",
   "name": "python3"
  },
  "language_info": {
   "codemirror_mode": {
    "name": "ipython",
    "version": 3
   },
   "file_extension": ".py",
   "mimetype": "text/x-python",
   "name": "python",
   "nbconvert_exporter": "python",
   "pygments_lexer": "ipython3",
   "version": "3.12.9"
  }
 },
 "nbformat": 4,
 "nbformat_minor": 2
}
