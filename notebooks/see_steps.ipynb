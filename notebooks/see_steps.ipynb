{
 "cells": [
  {
   "cell_type": "code",
   "execution_count": 11,
   "metadata": {},
   "outputs": [],
   "source": [
    "from pathlib import Path\n",
    "\n",
    "from dotenv import load_dotenv\n",
    "import geopandas as gpd\n",
    "import pandas as pd\n",
    "from shapely import Point\n",
    "\n",
    "from sample_mapillary_detections.mapillary import (\n",
    "    get_detections_for_image,\n",
    "    get_nearest_image_with_detections,\n",
    "    get_total_detection_proportions,\n",
    "    request_images,\n",
    ")\n",
    "from sample_mapillary_detections.sampling import halton_sampler\n"
   ]
  },
  {
   "cell_type": "code",
   "execution_count": 2,
   "metadata": {},
   "outputs": [
    {
     "data": {
      "text/plain": [
       "True"
      ]
     },
     "execution_count": 2,
     "metadata": {},
     "output_type": "execute_result"
    }
   ],
   "source": [
    "load_dotenv()\n"
   ]
  },
  {
   "cell_type": "code",
   "execution_count": 3,
   "metadata": {},
   "outputs": [
    {
     "data": {
      "text/plain": [
       "PosixPath('/Users/jay/repos/sample-mapillary-detections')"
      ]
     },
     "execution_count": 3,
     "metadata": {},
     "output_type": "execute_result"
    }
   ],
   "source": [
    "PROJ_ROOT = Path.cwd().parent\n",
    "PROJ_ROOT\n"
   ]
  },
  {
   "cell_type": "code",
   "execution_count": 4,
   "metadata": {},
   "outputs": [
    {
     "data": {
      "image/svg+xml": [
       "<svg xmlns=\"http://www.w3.org/2000/svg\" xmlns:xlink=\"http://www.w3.org/1999/xlink\" width=\"100.0\" height=\"100.0\" viewBox=\"-118.4315605434006 34.04879305200412 0.06418126847933081 0.06812204590056581\" preserveAspectRatio=\"xMinYMin meet\"><g transform=\"matrix(1,0,0,-1,0,68.16570814990881)\"><path fill-rule=\"evenodd\" fill=\"#66cc99\" stroke=\"#555555\" stroke-width=\"0.0013624409180113162\" opacity=\"0.6\" d=\"M -118.42903750466354,34.081323125368925 L -118.41846900531613,34.06047303850856 L -118.4129830667236,34.054925516728744 L -118.39854214013437,34.05412343534566 L -118.38652148057125,34.0542571161029 L -118.3740167676028,34.05131609074118 L -118.36990231365832,34.06488406173021 L -118.37635635906125,34.075977438452966 L -118.38837701862465,34.07644519952795 L -118.38813499192197,34.09268158968807 L -118.39007120554277,34.11212107096098 L -118.406448345753,34.11439205916763 L -118.41346712012867,34.09448544084917 L -118.4276660200155,34.09134537885937 L -118.42903750466354,34.081323125368925 z\" /></g></svg>"
      ],
      "text/plain": [
       "<POLYGON ((-118.429 34.081, -118.418 34.06, -118.413 34.055, -118.399 34.054...>"
      ]
     },
     "execution_count": 4,
     "metadata": {},
     "output_type": "execute_result"
    }
   ],
   "source": [
    "# Load sample target geo\n",
    "gdf = gpd.read_file(PROJ_ROOT / \"data\" / \"BeverlyHills.geojson\")\n",
    "\n",
    "target_geo = gdf.geometry[0]\n",
    "target_geo\n"
   ]
  },
  {
   "cell_type": "code",
   "execution_count": 5,
   "metadata": {},
   "outputs": [
    {
     "data": {
      "text/plain": [
       "<Axes: >"
      ]
     },
     "execution_count": 5,
     "metadata": {},
     "output_type": "execute_result"
    },
    {
     "data": {
      "image/png": "[encoded data removed]",
      "text/plain": [
       "<Figure size 640x480 with 1 Axes>"
      ]
     },
     "metadata": {},
     "output_type": "display_data"
    }
   ],
   "source": [
    "sampler = halton_sampler(target_geo)\n",
    "n_samples = 100\n",
    "\n",
    "samples_gdf = gpd.GeoDataFrame(\n",
    "    geometry=[Point(next(sampler)) for _ in range(n_samples)], crs=gdf.crs\n",
    ")\n",
    "\n",
    "gpd.GeoDataFrame(pd.concat([gdf, samples_gdf], ignore_index=True)).plot(facecolor=\"none\")\n"
   ]
  },
  {
   "cell_type": "code",
   "execution_count": 6,
   "metadata": {},
   "outputs": [
    {
     "data": {
      "text/plain": [
       "<Response [200 OK]>"
      ]
     },
     "execution_count": 6,
     "metadata": {},
     "output_type": "execute_result"
    }
   ],
   "source": [
    "point = samples_gdf.geometry[0]\n",
    "\n",
    "images_resp = request_images(point)\n",
    "images_resp\n"
   ]
  },
  {
   "cell_type": "code",
   "execution_count": 7,
   "metadata": {},
   "outputs": [
    {
     "data": {
      "text/plain": [
       "Image(id='927936512339209', geometry=<POINT (-118.4 34.073)>)"
      ]
     },
     "execution_count": 7,
     "metadata": {},
     "output_type": "execute_result"
    }
   ],
   "source": [
    "image = get_nearest_image_with_detections(images_resp.json(), point)\n",
    "image\n"
   ]
  },
  {
   "cell_type": "code",
   "execution_count": null,
   "metadata": {},
   "outputs": [
    {
     "data": {
      "text/plain": [
       "[Detection(value='construction--structure--building', geometry=DetectionGeometry(extent=4096, features=[<POLYGON ((1950 2032, 1950 2015, 1944 2019, 1944 2036, 1948 2040, 1950 2032))>])),\n",
       " Detection(value='construction--structure--building', geometry=DetectionGeometry(extent=4096, features=[<POLYGON ((1956 2032, 1982 2032, 1991 2023, 1989 1999, 1974 1999, 1972 1991,...>])),\n",
       " Detection(value='construction--structure--building', geometry=DetectionGeometry(extent=4096, features=[<POLYGON ((2359 2060, 2357 2109, 2361 2122, 2361 2175, 2363 2236, 2374 2249,...>])),\n",
       " Detection(value='construction--structure--building', geometry=DetectionGeometry(extent=4096, features=[<POLYGON ((2140 1987, 2140 1999, 2144 2003, 2146 1987, 2140 1987))>])),\n",
       " Detection(value='construction--structure--building', geometry=DetectionGeometry(extent=4096, features=[<POLYGON ((2193 2142, 2202 2146, 2214 2150, 2216 2150, 2222 2142, 2222 2118,...>])),\n",
       " Detection(value='construction--structure--building', geometry=DetectionGeometry(extent=4096, features=[<POLYGON ((3281 1868, 3283 1864, 3281 1864, 3281 1868))>])),\n",
       " Detection(value='construction--structure--building', geometry=DetectionGeometry(extent=4096, features=[<POLYGON ((4076 2146, 4080 2171, 4080 2228, 4096 2228, 4096 2097, 4080 2105,...>])),\n",
       " Detection(value='construction--structure--building', geometry=DetectionGeometry(extent=4096, features=[<POLYGON ((4076 2060, 4082 2048, 4088 2048, 4090 2040, 4086 2032, 4076 2036,...>])),\n",
       " Detection(value='construction--structure--building', geometry=DetectionGeometry(extent=4096, features=[<POLYGON ((4063 2105, 4063 2032, 4057 2032, 4055 2040, 4055 2077, 4057 2101,...>])),\n",
       " Detection(value='construction--structure--building', geometry=DetectionGeometry(extent=4096, features=[<POLYGON ((911 1974, 915 1978, 915 1974, 911 1974))>])),\n",
       " Detection(value='construction--structure--building', geometry=DetectionGeometry(extent=4096, features=[<POLYGON ((2136 2105, 2144 2105, 2148 2114, 2150 2134, 2159 2146, 2191 2150,...>])),\n",
       " Detection(value='construction--structure--building', geometry=DetectionGeometry(extent=4096, features=[<POLYGON ((2103 2105, 2128 2105, 2128 2093, 2111 2089, 2103 2105))>])),\n",
       " Detection(value='construction--structure--building', geometry=DetectionGeometry(extent=4096, features=[<POLYGON ((3903 2384, 3918 2417, 3926 2425, 3932 2425, 3936 2433, 3951 2433,...>])),\n",
       " Detection(value='construction--structure--building', geometry=DetectionGeometry(extent=4096, features=[<POLYGON ((1253 1974, 1290 1966, 1272 1962, 1264 1966, 1253 1958, 1253 1970,...>])),\n",
       " Detection(value='construction--structure--building', geometry=DetectionGeometry(extent=4096, features=[<POLYGON ((1298 1950, 1303 1946, 1303 1921, 1300 1917, 1298 1917, 1298 1950))>])),\n",
       " Detection(value='construction--structure--building', geometry=DetectionGeometry(extent=4096, features=[<POLYGON ((1354 1962, 1358 1978, 1356 2028, 1362 2040, 1368 2040, 1380 2028,...>])),\n",
       " Detection(value='construction--structure--building', geometry=DetectionGeometry(extent=4096, features=[<POLYGON ((1423 1962, 1421 1974, 1427 2003, 1438 2015, 1448 2015, 1454 2007,...>])),\n",
       " Detection(value='construction--structure--building', geometry=DetectionGeometry(extent=4096, features=[<POLYGON ((1663 1982, 1667 1987, 1673 1974, 1673 1966, 1669 1933, 1665 1937,...>])),\n",
       " Detection(value='construction--structure--building', geometry=DetectionGeometry(extent=4096, features=[<POLYGON ((1253 1954, 1255 1937, 1253 1937, 1253 1954))>])),\n",
       " Detection(value='construction--structure--building', geometry=DetectionGeometry(extent=4096, features=[<POLYGON ((1059 2003, 1061 1962, 1057 1962, 1059 2003))>])),\n",
       " Detection(value='construction--structure--building', geometry=DetectionGeometry(extent=4096, features=[<POLYGON ((1014 1966, 1016 1970, 1018 1962, 1014 1966))>])),\n",
       " Detection(value='construction--structure--building', geometry=DetectionGeometry(extent=4096, features=[<POLYGON ((4065 2028, 4067 2105, 4069 2105, 4073 2081, 4073 2073, 4071 2032,...>])),\n",
       " Detection(value='construction--structure--building', geometry=DetectionGeometry(extent=4096, features=[<POLYGON ((520 1937, 532 1937, 532 1933, 520 1933, 520 1937))>])),\n",
       " Detection(value='construction--structure--building', geometry=DetectionGeometry(extent=4096, features=[<POLYGON ((406 1999, 395 1999, 393 2011, 408 2028, 414 2028, 418 2040, 412 2...>])),\n",
       " Detection(value='construction--structure--building', geometry=DetectionGeometry(extent=4096, features=[<POLYGON ((358 2015, 369 1995, 387 1987, 387 1966, 401 1958, 403 1942, 401 1...>])),\n",
       " Detection(value='construction--structure--building', geometry=DetectionGeometry(extent=4096, features=[<POLYGON ((3975 2146, 3983 2159, 3992 2138, 3994 2114, 4000 2109, 4000 2089,...>])),\n",
       " Detection(value='construction--structure--building', geometry=DetectionGeometry(extent=4096, features=[<POLYGON ((477 1970, 487 1974, 494 1966, 496 1946, 506 1946, 506 1937, 494 1...>])),\n",
       " Detection(value='construction--structure--building', geometry=DetectionGeometry(extent=4096, features=[<POLYGON ((176 2077, 178 2077, 178 2068, 176 2068, 176 2077))>])),\n",
       " Detection(value='construction--structure--building', geometry=DetectionGeometry(extent=4096, features=[<POLYGON ((2281 2154, 2290 2146, 2292 2142, 2290 2134, 2279 2134, 2277 2142,...>])),\n",
       " Detection(value='construction--structure--building', geometry=DetectionGeometry(extent=4096, features=[<POLYGON ((2030 2044, 2030 2036, 2023 2036, 2023 2044, 2030 2044))>])),\n",
       " Detection(value='construction--structure--building', geometry=DetectionGeometry(extent=4096, features=[<POLYGON ((381 2122, 383 2105, 381 2101, 377 2105, 377 2122, 381 2122))>])),\n",
       " Detection(value='construction--structure--building', geometry=DetectionGeometry(extent=4096, features=[<POLYGON ((324 2138, 328 2138, 330 2146, 340 2146, 344 2138, 348 2109, 344 2...>])),\n",
       " Detection(value='construction--structure--building', geometry=DetectionGeometry(extent=4096, features=[<POLYGON ((1976 2093, 2009 2097, 2013 2089, 2011 2060, 1999 2068, 1997 2077,...>])),\n",
       " Detection(value='construction--structure--building', geometry=DetectionGeometry(extent=4096, features=[<POLYGON ((2032 2105, 2095 2109, 2099 2105, 2091 2097, 2091 2089, 2083 2077,...>])),\n",
       " Detection(value='construction--structure--building', geometry=DetectionGeometry(extent=4096, features=[<POLYGON ((1946 2060, 1948 2060, 1946 2044, 1946 2060))>])),\n",
       " Detection(value='construction--structure--building', geometry=DetectionGeometry(extent=4096, features=[<POLYGON ((455 2527, 465 2535, 465 2548, 469 2556, 492 2556, 502 2568, 512 2...>])),\n",
       " Detection(value='construction--structure--building', geometry=DetectionGeometry(extent=4096, features=[<POLYGON ((215 2236, 223 2236, 227 2249, 223 2298, 225 2384, 223 2408, 229 2...>])),\n",
       " Detection(value='construction--structure--building', geometry=DetectionGeometry(extent=4096, features=[<POLYGON ((170 2245, 178 2245, 178 2228, 168 2220, 166 2241, 170 2245))>])),\n",
       " Detection(value='construction--structure--building', geometry=DetectionGeometry(extent=4096, features=[<POLYGON ((0 2220, 14 2228, 61 2224, 104 2228, 109 2220, 115 2224, 113 2204,...>])),\n",
       " Detection(value='nature--sky', geometry=DetectionGeometry(extent=4096, features=[<POLYGON ((2042 2073, 2044 2081, 2054 2077, 2058 2085, 2083 2077, 2077 2064,...>])),\n",
       " Detection(value='nature--sky', geometry=DetectionGeometry(extent=4096, features=[<POLYGON ((2136 2101, 2144 2101, 2146 2089, 2140 2085, 2136 2089, 2136 2101))>])),\n",
       " Detection(value='nature--sky', geometry=DetectionGeometry(extent=4096, features=[<POLYGON ((1743 2257, 1743 2253, 1741 2253, 1739 2253, 1739 2257, 1741 2257,...>])),\n",
       " Detection(value='nature--sky', geometry=DetectionGeometry(extent=4096, features=[<POLYGON ((1788 2171, 1792 2171, 1792 2150, 1786 2150, 1788 2171))>])),\n",
       " Detection(value='nature--sky', geometry=DetectionGeometry(extent=4096, features=[<POLYGON ((0 4096, 586 4096, 586 4088, 596 4076, 627 4071, 684 4071, 715 408...>])),\n",
       " Detection(value='nature--vegetation', geometry=DetectionGeometry(extent=4096, features=[<POLYGON ((1958 1995, 1960 1987, 1958 1987, 1958 1995))>])),\n",
       " Detection(value='nature--vegetation', geometry=DetectionGeometry(extent=4096, features=[<POLYGON ((2134 2089, 2136 2089, 2140 2085, 2146 2089, 2191 2105, 2191 1987,...>])),\n",
       " Detection(value='nature--vegetation', geometry=DetectionGeometry(extent=4096, features=[<POLYGON ((2198 2204, 2200 2204, 2198 2187, 2198 2204))>])),\n",
       " Detection(value='nature--vegetation', geometry=DetectionGeometry(extent=4096, features=[<POLYGON ((3746 2011, 3744 2028, 3746 2036, 3754 2044, 3848 2052, 3854 2068,...>])),\n",
       " Detection(value='nature--vegetation', geometry=DetectionGeometry(extent=4096, features=[<POLYGON ((3281 1868, 3277 1876, 3279 1925, 3299 1946, 3301 1978, 3299 2015,...>])),\n",
       " Detection(value='nature--vegetation', geometry=DetectionGeometry(extent=4096, features=[<POLYGON ((4076 2109, 4078 2114, 4078 2109, 4076 2109))>])),\n",
       " Detection(value='nature--vegetation', geometry=DetectionGeometry(extent=4096, features=[<POLYGON ((96 2093, 96 2085, 92 2085, 92 2093, 96 2093))>])),\n",
       " Detection(value='nature--vegetation', geometry=DetectionGeometry(extent=4096, features=[<POLYGON ((119 2085, 121 2085, 121 2081, 119 2085))>])),\n",
       " Detection(value='nature--vegetation', geometry=DetectionGeometry(extent=4096, features=[<POLYGON ((119 2093, 119 2085, 113 2085, 113 2093, 119 2093))>])),\n",
       " Detection(value='nature--vegetation', geometry=DetectionGeometry(extent=4096, features=[<POLYGON ((1096 2101, 1100 2114, 1108 2118, 1108 2138, 1114 2142, 1116 2150,...>])),\n",
       " Detection(value='nature--vegetation', geometry=DetectionGeometry(extent=4096, features=[<POLYGON ((1001 1966, 983 1974, 985 1991, 993 2003, 993 2011, 999 2019, 1012...>])),\n",
       " Detection(value='nature--vegetation', geometry=DetectionGeometry(extent=4096, features=[<POLYGON ((1225 2089, 1233 2101, 1235 2150, 1233 2159, 1237 2163, 1237 2171,...>])),\n",
       " Detection(value='nature--vegetation', geometry=DetectionGeometry(extent=4096, features=[<POLYGON ((893 1991, 903 2032, 905 2073, 907 2073, 907 2060, 915 2052, 922 2...>])),\n",
       " Detection(value='nature--vegetation', geometry=DetectionGeometry(extent=4096, features=[<POLYGON ((793 1991, 809 2011, 840 2007, 844 2019, 842 2044, 819 2048, 805 2...>])),\n",
       " Detection(value='nature--vegetation', geometry=DetectionGeometry(extent=4096, features=[<POLYGON ((686 1995, 694 2028, 709 2036, 731 2015, 735 2003, 731 1995, 690 1...>])),\n",
       " Detection(value='nature--vegetation', geometry=DetectionGeometry(extent=4096, features=[<POLYGON ((625 1999, 627 2007, 647 2011, 653 2007, 653 1999, 635 1995, 625 1...>])),\n",
       " Detection(value='nature--vegetation', geometry=DetectionGeometry(extent=4096, features=[<POLYGON ((569 2003, 569 2011, 580 2019, 596 2003, 571 1999, 569 2003))>])),\n",
       " Detection(value='nature--vegetation', geometry=DetectionGeometry(extent=4096, features=[<POLYGON ((516 1966, 518 1978, 522 1982, 530 1974, 569 1978, 584 1962, 584 1...>])),\n",
       " Detection(value='nature--vegetation', geometry=DetectionGeometry(extent=4096, features=[<POLYGON ((586 4096, 936 4096, 936 4088, 930 4084, 868 4080, 856 4084, 834 4...>])),\n",
       " Detection(value='nature--vegetation', geometry=DetectionGeometry(extent=4096, features=[<POLYGON ((840 1864, 844 1864, 840 1855, 840 1864))>])),\n",
       " Detection(value='nature--vegetation', geometry=DetectionGeometry(extent=4096, features=[<POLYGON ((987 4096, 1188 4096, 1186 4084, 1178 4080, 1176 4071, 1169 4071, ...>])),\n",
       " Detection(value='nature--vegetation', geometry=DetectionGeometry(extent=4096, features=[<POLYGON ((1141 1942, 1145 1954, 1145 1974, 1149 1982, 1153 1942, 1157 1933,...>])),\n",
       " Detection(value='nature--vegetation', geometry=DetectionGeometry(extent=4096, features=[<POLYGON ((129 2101, 131 2097, 129 2097, 129 2101))>])),\n",
       " Detection(value='nature--vegetation', geometry=DetectionGeometry(extent=4096, features=[<POLYGON ((1237 1909, 1239 1913, 1245 1921, 1241 1905, 1237 1909))>])),\n",
       " Detection(value='nature--vegetation', geometry=DetectionGeometry(extent=4096, features=[<POLYGON ((125 2101, 129 2109, 129 2101, 127 2101, 125 2101))>])),\n",
       " Detection(value='nature--vegetation', geometry=DetectionGeometry(extent=4096, features=[<POLYGON ((45 2097, 59 2093, 63 2097, 72 2093, 72 2085, 45 2081, 45 2097))>])),\n",
       " Detection(value='nature--vegetation', geometry=DetectionGeometry(extent=4096, features=[<POLYGON ((4016 2478, 4012 2499, 4006 2507, 4004 2523, 3987 2527, 3979 2544,...>])),\n",
       " Detection(value='nature--vegetation', geometry=DetectionGeometry(extent=4096, features=[<POLYGON ((0 2056, 10 2060, 12 2073, 8 2089, 18 2097, 20 2105, 33 2109, 43 2...>])),\n",
       " Detection(value='nature--vegetation', geometry=DetectionGeometry(extent=4096, features=[<POLYGON ((2202 2154, 2214 2150, 2202 2146, 2202 2154))>])),\n",
       " Detection(value='nature--vegetation', geometry=DetectionGeometry(extent=4096, features=[<POLYGON ((1956 2081, 1964 2097, 1976 2093, 1980 2068, 1991 2068, 1993 2077,...>])),\n",
       " Detection(value='nature--vegetation', geometry=DetectionGeometry(extent=4096, features=[<POLYGON ((281 2449, 293 2458, 295 2478, 303 2503, 319 2515, 338 2511, 354 2...>])),\n",
       " Detection(value='nature--vegetation', geometry=DetectionGeometry(extent=4096, features=[<POLYGON ((115 2224, 115 2241, 121 2253, 137 2265, 156 2261, 170 2245, 166 2...>]))]"
      ]
     },
     "execution_count": 8,
     "metadata": {},
     "output_type": "execute_result"
    }
   ],
   "source": [
    "detections = get_detections_for_image(image)\n",
    "\n",
    "print(len(detections))\n",
    "detections[:5]\n"
   ]
  },
  {
   "cell_type": "code",
   "execution_count": 12,
   "metadata": {},
   "outputs": [
    {
     "data": {
      "text/plain": [
       "{'nature--terrain': 0.0,\n",
       " 'nature--vegetation': 0.03533428907394409,\n",
       " 'nature--water': 0.0,\n",
       " 'nature--sky': 0.3978103697299957,\n",
       " 'construction--structure--building': 0.08688938617706299}"
      ]
     },
     "execution_count": 12,
     "metadata": {},
     "output_type": "execute_result"
    }
   ],
   "source": [
    "total_proportions = get_total_detection_proportions(detections)\n",
    "total_proportions\n"
   ]
  },
  {
   "cell_type": "code",
   "execution_count": null,
   "metadata": {},
   "outputs": [],
   "source": []
  }
 ],
 "metadata": {
  "kernelspec": {
   "display_name": ".venv",
   "language": "python",
   "name": "python3"
  },
  "language_info": {
   "codemirror_mode": {
    "name": "ipython",
    "version": 3
   },
   "file_extension": ".py",
   "mimetype": "text/x-python",
   "name": "python",
   "nbconvert_exporter": "python",
   "pygments_lexer": "ipython3",
   "version": "3.12.9"
  }
 },
 "nbformat": 4,
 "nbformat_minor": 2
}
